{
  "nbformat": 4,
  "nbformat_minor": 0,
  "metadata": {
    "colab": {
      "provenance": [],
      "mount_file_id": "1ihsb0wwrMC1BFyPSeCBA12XDsZgORcyA",
      "authorship_tag": "ABX9TyOo7cQq6IDvQGmoZbtoaqM4",
      "include_colab_link": true
    },
    "kernelspec": {
      "name": "python3",
      "display_name": "Python 3"
    },
    "language_info": {
      "name": "python"
    }
  },
  "cells": [
    {
      "cell_type": "markdown",
      "metadata": {
        "id": "view-in-github",
        "colab_type": "text"
      },
      "source": [
        "<a href=\"https://colab.research.google.com/github/Diezelots/GDG/blob/main/final.ipynb\" target=\"_parent\"><img src=\"https://colab.research.google.com/assets/colab-badge.svg\" alt=\"Open In Colab\"/></a>"
      ]
    },
    {
      "cell_type": "code",
      "source": [
        "import pandas as pd\n",
        "import numpy as np\n",
        "import matplotlib.pyplot as plt\n",
        "import seaborn as sns\n",
        "\n",
        "from sklearn.model_selection import train_test_split\n",
        "from sklearn.ensemble import RandomForestClassifier\n",
        "from sklearn.metrics import accuracy_score\n",
        "from sklearn.ensemble import RandomForestRegressor\n"
      ],
      "metadata": {
        "id": "qqybeHwCCWDZ"
      },
      "execution_count": 10,
      "outputs": []
    },
    {
      "cell_type": "code",
      "source": [
        "train_df = pd.read_csv('/content/drive/MyDrive/서강대 화공/train.csv')\n",
        "test_df = pd.read_csv('/content/drive/MyDrive/서강대 화공/test.csv')\n",
        "train_df.head()\n",
        "test_df.head()\n",
        "train_df.info()\n",
        "\n",
        "train_df['is_train'] = 1\n",
        "test_df['is_train'] = 0\n",
        "test_df['Survived'] = np.nan\n",
        "\n",
        "#train/test set 묶어서 결측치, 범주형 등 전처리\n",
        "combined = pd.concat([train_df, test_df], sort=False)\n",
        "combined['Title'] = combined['Name'].str.extract(' ([A-Za-z]+)\\.', expand=False)\n",
        "combined['Title'] = combined['Title'].replace([\n",
        "    'Lady', 'Countess','Capt', 'Col','Don', 'Dr', 'Major', 'Rev', 'Sir', 'Jonkheer', 'Dona'],\n",
        "    'Rare')\n",
        "combined['Title'] = combined['Title'].replace({'Mlle': 'Miss', 'Ms': 'Miss', 'Mme': 'Mrs'})\n",
        "combined['Title'] = combined['Title'].map({'Mr': 0, 'Miss': 1, 'Mrs': 2, 'Master': 3, 'Rare': 4})\n",
        "combined['Title'] = combined['Title'].fillna(0).astype(int)\n",
        "combined = combined.drop(['PassengerId', 'Name', 'Ticket', 'Cabin'], axis=1)\n",
        "combined['Embarked'].fillna(combined['Embarked'].mode()[0], inplace=True)\n",
        "combined['Age'].fillna(combined['Age'].median(), inplace=True)\n",
        "combined['Fare'].fillna(combined['Fare'].median(), inplace=True)\n",
        "combined['Sex'] = combined['Sex'].map({'male': 0, 'female': 1})\n",
        "combined['Embarked'] = combined['Embarked'].map({'S': 0, 'C': 1, 'Q': 2})\n",
        "combined['FamilySize'] = combined['SibSp'] + combined['Parch'] + 1\n",
        "combined['IsAlone'] = (combined['FamilySize'] == 1).astype(int)\n",
        "\n",
        "train = combined[combined['is_train'] == 1].drop(['is_train'], axis=1)\n",
        "test = combined[combined['is_train'] == 0].drop(['is_train', 'Survived'], axis=1)\n",
        "\n",
        "X_train = train.drop('Survived', axis=1)\n",
        "y_train = train['Survived'].astype(int)"
      ],
      "metadata": {
        "colab": {
          "base_uri": "https://localhost:8080/"
        },
        "id": "IXbODzMKCyw3",
        "outputId": "780fb9e0-5160-4e07-a8a9-e13f66f39311",
        "collapsed": true
      },
      "execution_count": 13,
      "outputs": [
        {
          "output_type": "stream",
          "name": "stdout",
          "text": [
            "<class 'pandas.core.frame.DataFrame'>\n",
            "RangeIndex: 891 entries, 0 to 890\n",
            "Data columns (total 12 columns):\n",
            " #   Column       Non-Null Count  Dtype  \n",
            "---  ------       --------------  -----  \n",
            " 0   PassengerId  891 non-null    int64  \n",
            " 1   Survived     891 non-null    int64  \n",
            " 2   Pclass       891 non-null    int64  \n",
            " 3   Name         891 non-null    object \n",
            " 4   Sex          891 non-null    object \n",
            " 5   Age          714 non-null    float64\n",
            " 6   SibSp        891 non-null    int64  \n",
            " 7   Parch        891 non-null    int64  \n",
            " 8   Ticket       891 non-null    object \n",
            " 9   Fare         891 non-null    float64\n",
            " 10  Cabin        204 non-null    object \n",
            " 11  Embarked     889 non-null    object \n",
            "dtypes: float64(2), int64(5), object(5)\n",
            "memory usage: 83.7+ KB\n"
          ]
        },
        {
          "output_type": "stream",
          "name": "stderr",
          "text": [
            "<ipython-input-13-de07796cb38d>:21: FutureWarning: A value is trying to be set on a copy of a DataFrame or Series through chained assignment using an inplace method.\n",
            "The behavior will change in pandas 3.0. This inplace method will never work because the intermediate object on which we are setting values always behaves as a copy.\n",
            "\n",
            "For example, when doing 'df[col].method(value, inplace=True)', try using 'df.method({col: value}, inplace=True)' or df[col] = df[col].method(value) instead, to perform the operation inplace on the original object.\n",
            "\n",
            "\n",
            "  combined['Embarked'].fillna(combined['Embarked'].mode()[0], inplace=True)\n",
            "<ipython-input-13-de07796cb38d>:22: FutureWarning: A value is trying to be set on a copy of a DataFrame or Series through chained assignment using an inplace method.\n",
            "The behavior will change in pandas 3.0. This inplace method will never work because the intermediate object on which we are setting values always behaves as a copy.\n",
            "\n",
            "For example, when doing 'df[col].method(value, inplace=True)', try using 'df.method({col: value}, inplace=True)' or df[col] = df[col].method(value) instead, to perform the operation inplace on the original object.\n",
            "\n",
            "\n",
            "  combined['Age'].fillna(combined['Age'].median(), inplace=True)\n",
            "<ipython-input-13-de07796cb38d>:23: FutureWarning: A value is trying to be set on a copy of a DataFrame or Series through chained assignment using an inplace method.\n",
            "The behavior will change in pandas 3.0. This inplace method will never work because the intermediate object on which we are setting values always behaves as a copy.\n",
            "\n",
            "For example, when doing 'df[col].method(value, inplace=True)', try using 'df.method({col: value}, inplace=True)' or df[col] = df[col].method(value) instead, to perform the operation inplace on the original object.\n",
            "\n",
            "\n",
            "  combined['Fare'].fillna(combined['Fare'].median(), inplace=True)\n"
          ]
        }
      ]
    },
    {
      "cell_type": "code",
      "source": [
        "model = RandomForestClassifier(n_estimators=100, random_state=42)\n",
        "model.fit(X_train, y_train)\n",
        "predictions = model.predict(test)\n",
        "\n",
        "original_test = pd.read_csv('/content/drive/MyDrive/서강대 화공/test.csv')\n",
        "\n",
        "submission = pd.DataFrame({\n",
        "    'PassengerId': original_test['PassengerId'],\n",
        "    'Survived': predictions.astype(int)\n",
        "})\n",
        "\n",
        "submission.to_csv('submission.csv', index=False)\n",
        "\n",
        "from sklearn.model_selection import train_test_split\n",
        "from sklearn.metrics import accuracy_score\n",
        "\n",
        "# 훈련/검증 데이터 분리\n",
        "X_tr, X_val, y_tr, y_val = train_test_split(\n",
        "    X_train, y_train, test_size=0.2, random_state=42\n",
        ")\n",
        "\n",
        "# 모델 훈련\n",
        "model = RandomForestClassifier(n_estimators=100, random_state=42)\n",
        "model.fit(X_tr, y_tr)\n",
        "\n",
        "# 예측\n",
        "y_pred = model.predict(X_val)\n",
        "\n",
        "# 정확도 출력\n",
        "acc = accuracy_score(y_val, y_pred)\n",
        "print(f\"Validation Accuracy: {acc:.4f}\")"
      ],
      "metadata": {
        "colab": {
          "base_uri": "https://localhost:8080/"
        },
        "id": "mTPnRY8gEO7H",
        "outputId": "85ac1440-b910-448b-e7d9-9be27054d8ac"
      },
      "execution_count": 14,
      "outputs": [
        {
          "output_type": "stream",
          "name": "stdout",
          "text": [
            "Validation Accuracy: 0.8380\n"
          ]
        }
      ]
    },
    {
      "cell_type": "code",
      "source": [
        "submission = pd.DataFrame({\n",
        "    'PassengerId': original_test['PassengerId'],\n",
        "    'Survived': predictions.astype(int)\n",
        "})\n",
        "submission.to_csv('submission.csv', index=False)"
      ],
      "metadata": {
        "id": "dp-COpEfGGSj"
      },
      "execution_count": 4,
      "outputs": []
    }
  ]
}